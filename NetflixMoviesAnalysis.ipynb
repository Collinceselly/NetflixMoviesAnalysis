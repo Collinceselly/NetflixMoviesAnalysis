{
 "cells": [
  {
   "cell_type": "code",
   "execution_count": null,
   "id": "a59c1bc8",
   "metadata": {},
   "outputs": [],
   "source": [
    "import pandas as pd"
   ]
  },
  {
   "cell_type": "code",
   "execution_count": null,
   "id": "1f2286c7",
   "metadata": {},
   "outputs": [],
   "source": [
    "movie_data = pd.read_csv('datasets/NetflixMoviesAnalysis/netflix_titles.csv')\n",
    "pd.set_option('display.max_columns', None)\n",
    "movie_data.head()\n",
    "\n"
   ]
  },
  {
   "cell_type": "markdown",
   "id": "9f335c1a",
   "metadata": {},
   "source": [
    "TASK1: WHAT IS THE MOST POPULAR RELEASE YEAR MOVIES ON NETFLIX (MOVIES FIRST)"
   ]
  },
  {
   "cell_type": "code",
   "execution_count": null,
   "id": "f72aff17",
   "metadata": {},
   "outputs": [],
   "source": [
    "movie_data['release_year'].dtype"
   ]
  },
  {
   "cell_type": "code",
   "execution_count": null,
   "id": "2fa796d7",
   "metadata": {},
   "outputs": [],
   "source": [
    "movie_data['type'].unique()"
   ]
  },
  {
   "cell_type": "code",
   "execution_count": null,
   "id": "82d7804d",
   "metadata": {},
   "outputs": [],
   "source": [
    "movies = movie_data[movie_data['type'] == 'Movie']"
   ]
  },
  {
   "cell_type": "code",
   "execution_count": null,
   "id": "f33c9293",
   "metadata": {},
   "outputs": [],
   "source": [
    "movies['count'] = 1\n",
    "\n",
    "release_year_summed = movies.groupby('release_year').sum().reset_index()[['release_year', 'count']]"
   ]
  },
  {
   "cell_type": "code",
   "execution_count": null,
   "id": "fc6f0502",
   "metadata": {},
   "outputs": [],
   "source": [
    "release_year_summed.sort_values(['count'], ascending = False)"
   ]
  },
  {
   "cell_type": "markdown",
   "id": "85d92e6f",
   "metadata": {},
   "source": [
    "TASK2: WHAT IS THE MOST POPULAR RELEASE YEAR FOR TV SHOWS ON NETFLIX"
   ]
  },
  {
   "cell_type": "code",
   "execution_count": null,
   "id": "fe80b51f",
   "metadata": {},
   "outputs": [],
   "source": [
    "movie_data.head()"
   ]
  },
  {
   "cell_type": "code",
   "execution_count": null,
   "id": "358c4049",
   "metadata": {},
   "outputs": [],
   "source": [
    "tv_show_data = movie_data[movie_data['type'] == 'TV Show']"
   ]
  },
  {
   "cell_type": "code",
   "execution_count": null,
   "id": "09d3464f",
   "metadata": {},
   "outputs": [],
   "source": [
    "tv_show_data.head()"
   ]
  },
  {
   "cell_type": "code",
   "execution_count": null,
   "id": "c823ba1e",
   "metadata": {},
   "outputs": [],
   "source": [
    "tv_show_data['count'] = 1\n",
    "\n",
    "tv_show_release_year_summed = tv_show_data.groupby('release_year').sum().reset_index()[['release_year','count']]"
   ]
  },
  {
   "cell_type": "code",
   "execution_count": null,
   "id": "14c67b76",
   "metadata": {},
   "outputs": [],
   "source": [
    "tv_show_release_year_summed.sort_values(['count'], ascending = False)"
   ]
  },
  {
   "cell_type": "markdown",
   "id": "6cc4e5ab",
   "metadata": {},
   "source": [
    "TASK 3: WHAT YEAR DID NETFLIX ADD THE MOST CONTENT TO ITS PLATFORM"
   ]
  },
  {
   "cell_type": "code",
   "execution_count": null,
   "id": "162067bf",
   "metadata": {},
   "outputs": [],
   "source": [
    "movie_data.head()"
   ]
  },
  {
   "cell_type": "code",
   "execution_count": null,
   "id": "c17fc657",
   "metadata": {},
   "outputs": [],
   "source": [
    "movie_data['date_added'].unique()"
   ]
  },
  {
   "cell_type": "code",
   "execution_count": null,
   "id": "3910469e",
   "metadata": {},
   "outputs": [],
   "source": [
    "movie_data.info()"
   ]
  },
  {
   "cell_type": "code",
   "execution_count": null,
   "id": "15921267",
   "metadata": {},
   "outputs": [],
   "source": [
    "movie_data['date_added_dt'] = pd.to_datetime(movie_data['date_added'])\n",
    "movie_data.head()"
   ]
  },
  {
   "cell_type": "code",
   "execution_count": null,
   "id": "2c45af06",
   "metadata": {},
   "outputs": [],
   "source": [
    "movie_data['year_added'] = movie_data['date_added_dt'].dt.strftime('%Y')"
   ]
  },
  {
   "cell_type": "code",
   "execution_count": null,
   "id": "1131111a",
   "metadata": {},
   "outputs": [],
   "source": [
    "movie_data.head()"
   ]
  },
  {
   "cell_type": "code",
   "execution_count": null,
   "id": "ffcd0eea",
   "metadata": {
    "scrolled": true
   },
   "outputs": [],
   "source": [
    "movie_data['count'] = 1\n",
    "\n",
    "most_content_year_summed = movie_data.groupby('year_added').sum().reset_index()[['year_added','count']]\n",
    "\n",
    "most_content_year_summed"
   ]
  },
  {
   "cell_type": "code",
   "execution_count": null,
   "id": "9c741154",
   "metadata": {},
   "outputs": [],
   "source": [
    "most_content_year_summed.sort_values(['count'], ascending = False)\n"
   ]
  },
  {
   "cell_type": "markdown",
   "id": "cd44ef02",
   "metadata": {},
   "source": [
    "TASK3: WHAT MONTH WAS THE MOST CONTENT ADDED IN NETFLIX?"
   ]
  },
  {
   "cell_type": "code",
   "execution_count": null,
   "id": "d8c70046",
   "metadata": {},
   "outputs": [],
   "source": [
    "movie_data['month_added'] = movie_data['date_added_dt'].dt.strftime('%m')"
   ]
  },
  {
   "cell_type": "code",
   "execution_count": null,
   "id": "e89b40c7",
   "metadata": {},
   "outputs": [],
   "source": [
    "movie_data['count'] = 1\n",
    "\n",
    "most_popular_month = movie_data.groupby('month_added').sum().reset_index()[['month_added', 'count']]\n",
    "\n",
    "most_popular_month"
   ]
  },
  {
   "cell_type": "code",
   "execution_count": null,
   "id": "568709be",
   "metadata": {},
   "outputs": [],
   "source": [
    "most_popular_month.sort_values(['count'], ascending = False)"
   ]
  },
  {
   "cell_type": "markdown",
   "id": "b0e44f9e",
   "metadata": {},
   "source": [
    "TASK4: WHAT IS THE MOVIE WITH THE LONGEST TITLE IN THE DATASET?"
   ]
  },
  {
   "cell_type": "code",
   "execution_count": null,
   "id": "3e7eaa52",
   "metadata": {},
   "outputs": [],
   "source": [
    "movie_data.head(2)"
   ]
  },
  {
   "cell_type": "code",
   "execution_count": null,
   "id": "38cb8482",
   "metadata": {},
   "outputs": [],
   "source": [
    "movie_data['title_length'] = movie_data['title'].str.len()"
   ]
  },
  {
   "cell_type": "code",
   "execution_count": null,
   "id": "8babe5ba",
   "metadata": {},
   "outputs": [],
   "source": [
    "movies = movie_data[movie_data['type'] == 'Movie']\n",
    "\n",
    "movies.head(2)"
   ]
  },
  {
   "cell_type": "code",
   "execution_count": null,
   "id": "36f0b4c1",
   "metadata": {},
   "outputs": [],
   "source": [
    "title_length_sorted = movies.sort_values(['title_length'], ascending = False)\n",
    "title_length_sorted.head(2)"
   ]
  },
  {
   "cell_type": "code",
   "execution_count": null,
   "id": "ee04cc29",
   "metadata": {},
   "outputs": [],
   "source": [
    "title_length_sorted.iloc[0]['title']"
   ]
  },
  {
   "cell_type": "markdown",
   "id": "85cc0a6d",
   "metadata": {},
   "source": [
    "TASK5: WHICH ACTOR/ACTRESS SHOWS UP MOST FREQUENTLY IN NETFLIX DATASET?"
   ]
  },
  {
   "cell_type": "code",
   "execution_count": null,
   "id": "7c254532",
   "metadata": {},
   "outputs": [],
   "source": [
    "pd.options.display.max_colwidth = 150\n",
    "title_and_cast_df = movie_data[['type', 'cast']]\n",
    "title_and_cast_df = title_and_cast_df.dropna()"
   ]
  },
  {
   "cell_type": "code",
   "execution_count": null,
   "id": "e223fc39",
   "metadata": {},
   "outputs": [],
   "source": [
    "cast_name_counter = {}\n",
    "for index, row in title_and_cast_df.iterrows():\n",
    "    movie_cast = row['cast']\n",
    "    movie_cast_split = movie_cast.split(',')\n",
    "    movie_cast_stripped = [name.strip().lower() for name in movie_cast_split]\n",
    "    for name in movie_cast_stripped:\n",
    "        cast_name_counter[name] = cast_name_counter.get(name, 0) + 1\n",
    "dict(sorted(cast_name_counter.items(), key = lambda item: item[1], reverse = True))"
   ]
  },
  {
   "cell_type": "code",
   "execution_count": null,
   "id": "17b1f805",
   "metadata": {
    "scrolled": true
   },
   "outputs": [],
   "source": [
    "from collections import Counter\n",
    "\n",
    "list_of_cast = title_and_cast_df['cast'].tolist()\n",
    "splited_list = [i.split(',', 1)[0] for i in list_of_cast]\n",
    "stripped_list = [name.strip().lower() for name in splited_list]\n",
    "dict_cast = Counter(stripped_list)\n",
    "dict(sorted(dict_cast.items(), key=lambda item: item[1], reverse = True))"
   ]
  },
  {
   "cell_type": "code",
   "execution_count": null,
   "id": "8da06729",
   "metadata": {},
   "outputs": [],
   "source": [
    "movie_data.head()"
   ]
  },
  {
   "cell_type": "markdown",
   "id": "a15f7374",
   "metadata": {},
   "source": [
    "TASK6: WHICH COUNTRY HAS PRODUCED THE MOST CONTENT ON NETFLIX?"
   ]
  },
  {
   "cell_type": "code",
   "execution_count": null,
   "id": "f6238826",
   "metadata": {},
   "outputs": [],
   "source": [
    "movie_data['country']"
   ]
  },
  {
   "cell_type": "code",
   "execution_count": null,
   "id": "157a54b0",
   "metadata": {},
   "outputs": [],
   "source": [
    "movie_data.info()"
   ]
  },
  {
   "cell_type": "code",
   "execution_count": null,
   "id": "580b0411",
   "metadata": {},
   "outputs": [],
   "source": [
    "movie_data_by_country = movie_data[['type','country']]\n",
    "movie_data_by_country = movie_data_by_country.dropna()\n",
    "movie_data_by_country"
   ]
  },
  {
   "cell_type": "code",
   "execution_count": null,
   "id": "07a317d8",
   "metadata": {},
   "outputs": [],
   "source": [
    "from collections import Counter\n",
    "\n",
    "list_of_countries = movie_data_by_country['country'].tolist()\n",
    "splited_list = [i.split(',', 1)[0] for i in list_of_countries]\n",
    "stripped_list = [name.strip().lower() for name in splited_list]\n",
    "dict_countries = Counter(stripped_list)\n",
    "dict(sorted(dict_countries.items(), key=lambda item: item[1], reverse = True))"
   ]
  },
  {
   "cell_type": "code",
   "execution_count": null,
   "id": "dc6c8b3f",
   "metadata": {},
   "outputs": [],
   "source": [
    "movie_data_by_country['count'] = 1\n",
    "\n",
    "country_movie_data = movie_data_by_country.groupby('country').sum().reset_index()[['country', 'count']]\n",
    "country_movie_data"
   ]
  },
  {
   "cell_type": "code",
   "execution_count": null,
   "id": "d4d1d528",
   "metadata": {},
   "outputs": [],
   "source": [
    "country_name_counter = {}\n",
    "for index, row in movie_data_by_country.iterrows():\n",
    "    movie_country = row['country']\n",
    "    movie_country_split = movie_country.split(',')\n",
    "    movie_country_stripped = [name.strip().lower() for name in movie_country_split]\n",
    "    for name in movie_country_stripped:\n",
    "        country_name_counter[name] = country_name_counter.get(name, 0) + 1\n",
    "dict(sorted(country_name_counter.items(), key = lambda item: item[1], reverse = True))"
   ]
  },
  {
   "cell_type": "code",
   "execution_count": null,
   "id": "2e3c4b41",
   "metadata": {},
   "outputs": [],
   "source": []
  }
 ],
 "metadata": {
  "kernelspec": {
   "display_name": "Python 3 (ipykernel)",
   "language": "python",
   "name": "python3"
  },
  "language_info": {
   "codemirror_mode": {
    "name": "ipython",
    "version": 3
   },
   "file_extension": ".py",
   "mimetype": "text/x-python",
   "name": "python",
   "nbconvert_exporter": "python",
   "pygments_lexer": "ipython3",
   "version": "3.10.9"
  }
 },
 "nbformat": 4,
 "nbformat_minor": 5
}
